{
 "cells": [
  {
   "cell_type": "code",
   "execution_count": 1,
   "metadata": {},
   "outputs": [],
   "source": [
    "import numpy as np\n",
    "from integration_methods import get_orb_params"
   ]
  },
  {
   "cell_type": "code",
   "execution_count": 2,
   "metadata": {},
   "outputs": [
    {
     "name": "stdout",
     "output_type": "stream",
     "text": [
      "a: 3.0002501821496463\n",
      "e: 0.5000526929839578\n",
      "i: 44.99781401328966\n",
      "Omega: 30.00072778082738\n",
      "omega: 0.003024984850542064\n",
      "nu: 359.99697501539043\n"
     ]
    }
   ],
   "source": [
    "# Sample initial position and velocity vectors\n",
    "r = np.array([1.299, 0.75, 0])  # Position in km (example values)\n",
    "v = np.array([-0.3536, 0.6124, 0.7071])  # Velocity in km/s (example values)\n",
    "\n",
    "# Gravitational parameter (GM = 1 for simplicity in this example)\n",
    "GM = 1\n",
    "\n",
    "# Get orbital parameters (a, e, ap, per, i, Omega, omega, nu)\n",
    "a, e, ap, per, i, Omega, omega, nu = get_orb_params(r, v, GM)\n",
    "\n",
    "# Output orbital parameters\n",
    "print(\"a: \" + str(a))\n",
    "print(\"e: \" + str(e))\n",
    "print(\"i: \" + str(180/np.pi*i))  # Inclination in degrees\n",
    "print(\"Omega: \" + str(180/np.pi*Omega))  # Longitude of ascending node in degrees\n",
    "print(\"omega: \" + str(180/np.pi*omega))  # Argument of periapsis\n",
    "print(\"nu: \" + str(180/np.pi*nu))  # True anomaly in degrees"
   ]
  },
  {
   "cell_type": "code",
   "execution_count": 3,
   "metadata": {},
   "outputs": [],
   "source": [
    "# Semi-latus rectum (p)\n",
    "p = a * (1 - e**2)\n",
    "\n",
    "# Orbital velocity components in the perifocal frame (radial and tangential)\n",
    "vr = np.sqrt(GM / p) * e * np.sin(nu)  # Radial velocity component\n",
    "vtheta = np.sqrt(GM / p) * (1 + e * np.cos(nu))  # Tangential velocity component\n",
    "\n",
    "# Orbital velocity vector in the perifocal frame (x, y, z)\n",
    "v_orbital = np.array([\n",
    "    vr * np.cos(nu) - vtheta * np.sin(nu),  # x-component\n",
    "    vr * np.sin(nu) + vtheta * np.cos(nu),  # y-component\n",
    "    0  # z-component is 0 in the orbital plane\n",
    "])\n",
    "\n",
    "# Rotation matrix from perifocal frame to inertial frame\n",
    "cos_Omega = np.cos(Omega)\n",
    "sin_Omega = np.sin(Omega)\n",
    "cos_omega = np.cos(omega)\n",
    "sin_omega = np.sin(omega)\n",
    "cos_i = np.cos(i)\n",
    "sin_i = np.sin(i)\n",
    "\n",
    "R = np.array([\n",
    "    [cos_omega * cos_Omega - sin_omega * sin_Omega * cos_i,\n",
    "     -sin_omega * cos_Omega - cos_omega * sin_Omega * cos_i,\n",
    "     sin_Omega * sin_i],\n",
    "\n",
    "    [cos_omega * sin_Omega + sin_omega * cos_Omega * cos_i,\n",
    "     sin_omega * sin_Omega + cos_omega * cos_Omega * cos_i,\n",
    "     cos_Omega * sin_i],\n",
    "\n",
    "    [sin_omega * sin_i,\n",
    "     cos_omega * sin_i,\n",
    "     cos_i]\n",
    "])\n",
    "\n",
    "# Velocity in the inertial frame\n",
    "v_inertial = R @ v_orbital"
   ]
  },
  {
   "cell_type": "code",
   "execution_count": 4,
   "metadata": {},
   "outputs": [
    {
     "name": "stdout",
     "output_type": "stream",
     "text": [
      "Calculated velocity in perifocal frame: [3.51970631e-05 1.00002856e+00 0.00000000e+00]\n",
      "Velocity in inertial frame (from rotation): [-0.3536     0.6124528  0.7071   ]\n",
      "Original velocity vector: [-0.3536  0.6124  0.7071]\n",
      "Difference between original and transformed velocity: [ 2.77161627e-12 -5.27986135e-05  0.00000000e+00]\n"
     ]
    }
   ],
   "source": [
    "# Debug: Print the calculated orbital velocity components\n",
    "print(f\"Calculated velocity in perifocal frame: {v_orbital}\")\n",
    "\n",
    "# Rotate the orbital velocity vector to the inertial frame\n",
    "v_inertial = R @ v_orbital\n",
    "\n",
    "# Debug: Print the rotated velocity in the inertial frame\n",
    "print(f\"Velocity in inertial frame (from rotation): {v_inertial}\")\n",
    "\n",
    "# Now compare the transformed velocity with the original velocity vector `v`\n",
    "# Debug: Compare the original velocity and the transformed velocity\n",
    "print(f\"Original velocity vector: {v}\")\n",
    "print(f\"Difference between original and transformed velocity: {v - v_inertial}\")"
   ]
  }
 ],
 "metadata": {
  "kernelspec": {
   "display_name": "base",
   "language": "python",
   "name": "python3"
  },
  "language_info": {
   "codemirror_mode": {
    "name": "ipython",
    "version": 3
   },
   "file_extension": ".py",
   "mimetype": "text/x-python",
   "name": "python",
   "nbconvert_exporter": "python",
   "pygments_lexer": "ipython3",
   "version": "3.11.5"
  }
 },
 "nbformat": 4,
 "nbformat_minor": 2
}
